{
 "metadata": {
  "language_info": {
   "codemirror_mode": {
    "name": "ipython",
    "version": 3
   },
   "file_extension": ".py",
   "mimetype": "text/x-python",
   "name": "python",
   "nbconvert_exporter": "python",
   "pygments_lexer": "ipython3",
   "version": "3.9.6"
  },
  "orig_nbformat": 4,
  "kernelspec": {
   "name": "python3",
   "display_name": "Python 3.9.6 64-bit"
  },
  "interpreter": {
   "hash": "8da01e5a71448ea74f54d88afa8911010d1d12e23bc7e103d40d5def4a09152c"
  }
 },
 "nbformat": 4,
 "nbformat_minor": 2,
 "cells": [
  {
   "cell_type": "code",
   "execution_count": 5,
   "metadata": {},
   "outputs": [
    {
     "output_type": "stream",
     "name": "stdout",
     "text": [
      "Requirement already satisfied: tweepy in c:\\users\\asus\\appdata\\local\\programs\\python\\python39\\lib\\site-packages (3.10.0)\nRequirement already satisfied: requests-oauthlib>=0.7.0 in c:\\users\\asus\\appdata\\local\\programs\\python\\python39\\lib\\site-packages (from tweepy) (1.3.0)\nRequirement already satisfied: requests[socks]>=2.11.1 in c:\\users\\asus\\appdata\\local\\programs\\python\\python39\\lib\\site-packages (from tweepy) (2.25.1)\nRequirement already satisfied: six>=1.10.0 in c:\\users\\asus\\appdata\\roaming\\python\\python39\\site-packages (from tweepy) (1.16.0)\nRequirement already satisfied: oauthlib>=3.0.0 in c:\\users\\asus\\appdata\\local\\programs\\python\\python39\\lib\\site-packages (from requests-oauthlib>=0.7.0->tweepy) (3.1.1)\nRequirement already satisfied: idna<3,>=2.5 in c:\\users\\asus\\appdata\\local\\programs\\python\\python39\\lib\\site-packages (from requests[socks]>=2.11.1->tweepy) (2.10)\nRequirement already satisfied: certifi>=2017.4.17 in c:\\users\\asus\\appdata\\local\\programs\\python\\python39\\lib\\site-packages (from requests[socks]>=2.11.1->tweepy) (2021.5.30)\nRequirement already satisfied: urllib3<1.27,>=1.21.1 in c:\\users\\asus\\appdata\\local\\programs\\python\\python39\\lib\\site-packages (from requests[socks]>=2.11.1->tweepy) (1.26.6)\nRequirement already satisfied: chardet<5,>=3.0.2 in c:\\users\\asus\\appdata\\local\\programs\\python\\python39\\lib\\site-packages (from requests[socks]>=2.11.1->tweepy) (4.0.0)\nRequirement already satisfied: PySocks!=1.5.7,>=1.5.6 in c:\\users\\asus\\appdata\\local\\programs\\python\\python39\\lib\\site-packages (from requests[socks]>=2.11.1->tweepy) (1.7.1)\nNote: you may need to restart the kernel to use updated packages.\n"
     ]
    }
   ],
   "source": [
    "pip install tweepy"
   ]
  },
  {
   "cell_type": "code",
   "execution_count": 2,
   "metadata": {},
   "outputs": [
    {
     "output_type": "stream",
     "name": "stdout",
     "text": [
      "getting tweets before 1405504960280686596\n",
      "...400 tweets downloaded so far\n",
      "getting tweets before 1397893354847801343\n",
      "...600 tweets downloaded so far\n",
      "getting tweets before 1391002120350887937\n",
      "...800 tweets downloaded so far\n",
      "getting tweets before 1384321561847500799\n",
      "...1000 tweets downloaded so far\n",
      "getting tweets before 1379207523945750527\n",
      "...1200 tweets downloaded so far\n",
      "getting tweets before 1372911583358189571\n",
      "...1399 tweets downloaded so far\n",
      "getting tweets before 1366921029298257921\n",
      "...1599 tweets downloaded so far\n",
      "getting tweets before 1361960598787919873\n",
      "...1799 tweets downloaded so far\n",
      "getting tweets before 1357669223783297025\n",
      "...1999 tweets downloaded so far\n",
      "getting tweets before 1352496757192626175\n",
      "...2199 tweets downloaded so far\n",
      "getting tweets before 1347023033517543423\n",
      "...2399 tweets downloaded so far\n",
      "getting tweets before 1339028744908939266\n",
      "...2599 tweets downloaded so far\n",
      "getting tweets before 1329998125608562687\n",
      "...2799 tweets downloaded so far\n",
      "getting tweets before 1324212857697755136\n",
      "...2999 tweets downloaded so far\n",
      "getting tweets before 1316654034774712320\n",
      "...3199 tweets downloaded so far\n",
      "getting tweets before 1309274841191571455\n",
      "...3249 tweets downloaded so far\n",
      "getting tweets before 1307232940342960127\n",
      "...3249 tweets downloaded so far\n"
     ]
    }
   ],
   "source": [
    "import tweepy #https://github.com/tweepy/tweepy\n",
    "import csv\n",
    "\n",
    "\n",
    "consumer_key = \"9uC02OzQ9UiCPvTAa6yLiX5kX\"\n",
    "consumer_secret = \"owcIlaVwWTncckG9WUiuchlTipa6XxpOQEHvu08lVO7sQMVDcA\"\n",
    "access_key = \"61221956-c4FPXxxdowclxiyM1m2bTT2tzFK52plsosCOQiLy5\"\n",
    "access_secret = \"OSApSklg20L6nu6bwB6R3MqatUm5Ku8gWUwmbsMKKj87Z\"\n",
    "\n",
    "\n",
    "def get_all_tweets(screen_name):\n",
    "    auth = tweepy.OAuthHandler(consumer_key, consumer_secret)\n",
    "    auth.set_access_token(access_key, access_secret)\n",
    "    api = tweepy.API(auth)\n",
    "\n",
    "    \n",
    "    alltweets = []    \n",
    "   \n",
    "    new_tweets = api.user_timeline(screen_name = screen_name,count=300,tweet_mode=\"extended\")\n",
    "\n",
    "\n",
    "    alltweets.extend(new_tweets)\n",
    "\n",
    "    oldest = alltweets[-1].id - 1\n",
    "\n",
    "    while len(new_tweets) > 0:\n",
    "        print (\"getting tweets before %s\" % oldest)\n",
    "\n",
    "        new_tweets = api.user_timeline(screen_name = screen_name,count=300,max_id=oldest,tweet_mode=\"extended\")\n",
    "\n",
    "        alltweets.extend(new_tweets)\n",
    "\n",
    "        oldest = alltweets[-1].id - 1\n",
    "\n",
    "        print (\"...%s tweets downloaded so far\" % len(alltweets))\n",
    "\n",
    "\n",
    "        \n",
    "    outtweets = [[tweet.id_str, \n",
    "              tweet.created_at, \n",
    "              tweet.full_text.encode(\"utf-8\"),\n",
    "              tweet.retweet_count,\n",
    "              tweet.favorite_count] for tweet in alltweets]\n",
    "\n",
    "        \n",
    "    with open('%s_tweets.csv' % screen_name, 'w') as f:\n",
    "        writer = csv.writer(f)\n",
    "        writer.writerow([\"id\",\"created_at\",\"text\",\"retweet_count\",\"favorite_count\"])\n",
    "        writer.writerows(outtweets)\n",
    "\n",
    "    pass\n",
    "\n",
    "if __name__ == '__main__':\n",
    "    #pass in the username of the account you want to download\n",
    "    get_all_tweets(\"KemenkesRI\")\n",
    "    \n",
    "    "
   ]
  }
 ]
}